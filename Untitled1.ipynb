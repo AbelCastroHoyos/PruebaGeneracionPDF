{
 "cells": [
  {
   "cell_type": "markdown",
   "metadata": {},
   "source": [
    "# Documentos PDF en R Studio\n",
    "Para realizar un documento PDF en R Studio se procede de acuerdo a los siguientes pasos:\n",
    "\n",
    "1. Abrir R Studio y crear un documento nuevo de tipo R Markdown.\n",
    "   <p>En MAC File - New File - R Markdown, y aparece la siguiente ventana</p>\n",
    "\n",
    "![alt text](CrearPDF1.tiff \"Nuevo Archivo PDF\")  \n",
    "\n",
    "2. Escribir un título y seleccionar \"Default output format\" la opción PDF.\n",
    "3. Click en OK. El sistema genera una platilla para el documento PDF.\n",
    "\n",
    "![alt text](CrearPDF2.tiff \"Plantilla generada automática\")  \n",
    "\n",
    "4. Cambiar el texto y los elementos de la plantilla por los propios para el documento.\n",
    "\n",
    "![alt text](CrearPDF3.tiff \"Editar Contenido\")  \n",
    "\n",
    "5. Generar el documento PDF ejecutando Knit PDF\n",
    "\n",
    "![alt text](CreadPDFF4.tiff \"Botón Generar PDF\")  \n",
    "\n",
    "![alt text](CrearPDF5.tiff \"PDF Generado\")  "
   ]
  },
  {
   "cell_type": "markdown",
   "metadata": {},
   "source": []
  },
  {
   "cell_type": "code",
   "execution_count": null,
   "metadata": {
    "collapsed": true
   },
   "outputs": [],
   "source": []
  }
 ],
 "metadata": {
  "celltoolbar": "Raw Cell Format",
  "kernelspec": {
   "display_name": "R",
   "language": "R",
   "name": "ir"
  },
  "language_info": {
   "codemirror_mode": "r",
   "file_extension": ".r",
   "mimetype": "text/x-r-source",
   "name": "R",
   "pygments_lexer": "r",
   "version": "3.2.2"
  }
 },
 "nbformat": 4,
 "nbformat_minor": 0
}
